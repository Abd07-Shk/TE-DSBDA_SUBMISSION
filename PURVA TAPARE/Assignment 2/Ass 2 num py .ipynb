{
 "cells": [
  {
   "cell_type": "code",
   "execution_count": 1,
   "id": "12b5a526",
   "metadata": {},
   "outputs": [],
   "source": [
    "import pandas as pd\n",
    "import numpy as np\n",
    "import matplotlib.pyplot as plt\n",
    "import seaborn as sns\n",
    "from scipy.stats import zscore, iqr"
   ]
  },
  {
   "cell_type": "code",
   "execution_count": 4,
   "id": "a55404dd",
   "metadata": {},
   "outputs": [],
   "source": [
    "data= pd.read_csv(\"Student.CSV\")"
   ]
  },
  {
   "cell_type": "code",
   "execution_count": 5,
   "id": "3553b7a2",
   "metadata": {},
   "outputs": [
    {
     "data": {
      "text/html": [
       "<div>\n",
       "<style scoped>\n",
       "    .dataframe tbody tr th:only-of-type {\n",
       "        vertical-align: middle;\n",
       "    }\n",
       "\n",
       "    .dataframe tbody tr th {\n",
       "        vertical-align: top;\n",
       "    }\n",
       "\n",
       "    .dataframe thead th {\n",
       "        text-align: right;\n",
       "    }\n",
       "</style>\n",
       "<table border=\"1\" class=\"dataframe\">\n",
       "  <thead>\n",
       "    <tr style=\"text-align: right;\">\n",
       "      <th></th>\n",
       "      <th>No.</th>\n",
       "      <th>Name</th>\n",
       "      <th>Roll No.</th>\n",
       "      <th>Marks</th>\n",
       "      <th>Grade</th>\n",
       "    </tr>\n",
       "  </thead>\n",
       "  <tbody>\n",
       "    <tr>\n",
       "      <th>0</th>\n",
       "      <td>1</td>\n",
       "      <td>John</td>\n",
       "      <td>101.0</td>\n",
       "      <td>400</td>\n",
       "      <td>A</td>\n",
       "    </tr>\n",
       "    <tr>\n",
       "      <th>1</th>\n",
       "      <td>2</td>\n",
       "      <td>Alice</td>\n",
       "      <td>102.0</td>\n",
       "      <td>411</td>\n",
       "      <td>A</td>\n",
       "    </tr>\n",
       "    <tr>\n",
       "      <th>2</th>\n",
       "      <td>3</td>\n",
       "      <td>Bob</td>\n",
       "      <td>NaN</td>\n",
       "      <td>300</td>\n",
       "      <td>NaN</td>\n",
       "    </tr>\n",
       "    <tr>\n",
       "      <th>3</th>\n",
       "      <td>4</td>\n",
       "      <td>Charlie</td>\n",
       "      <td>104.0</td>\n",
       "      <td>329</td>\n",
       "      <td>NUll</td>\n",
       "    </tr>\n",
       "    <tr>\n",
       "      <th>4</th>\n",
       "      <td>5</td>\n",
       "      <td>David</td>\n",
       "      <td>105.0</td>\n",
       "      <td>467</td>\n",
       "      <td>B</td>\n",
       "    </tr>\n",
       "  </tbody>\n",
       "</table>\n",
       "</div>"
      ],
      "text/plain": [
       "   No.    Name   Roll No.  Marks  Grade \n",
       "0    1     John     101.0     400      A\n",
       "1    2    Alice     102.0     411      A\n",
       "2    3      Bob       NaN     300    NaN\n",
       "3    4  Charlie     104.0     329   NUll\n",
       "4    5    David     105.0     467      B"
      ]
     },
     "execution_count": 5,
     "metadata": {},
     "output_type": "execute_result"
    }
   ],
   "source": [
    "data.head()"
   ]
  },
  {
   "cell_type": "code",
   "execution_count": 7,
   "id": "4fd99b41",
   "metadata": {},
   "outputs": [
    {
     "data": {
      "text/plain": [
       "No.          0\n",
       "Name         0\n",
       "Roll No.    12\n",
       "Marks        0\n",
       "Grade        5\n",
       "dtype: int64"
      ]
     },
     "execution_count": 7,
     "metadata": {},
     "output_type": "execute_result"
    }
   ],
   "source": [
    "data.isnull().sum()"
   ]
  },
  {
   "cell_type": "code",
   "execution_count": 9,
   "id": "a465cee2",
   "metadata": {},
   "outputs": [],
   "source": [
    "df2 = data.copy()"
   ]
  },
  {
   "cell_type": "code",
   "execution_count": 10,
   "id": "2d1a273c",
   "metadata": {},
   "outputs": [],
   "source": [
    "for col in data.columns:\n",
    "    if df2[col].isnull().any() and df2[col].dtype in ['int64', 'float64']:\n",
    "        df2[col] = df2[col].fillna(df2[col].mean())"
   ]
  },
  {
   "cell_type": "code",
   "execution_count": 11,
   "id": "1e33b8a4",
   "metadata": {},
   "outputs": [
    {
     "data": {
      "text/plain": [
       "No.         0\n",
       "Name        0\n",
       "Roll No.    0\n",
       "Marks       0\n",
       "Grade       5\n",
       "dtype: int64"
      ]
     },
     "execution_count": 11,
     "metadata": {},
     "output_type": "execute_result"
    }
   ],
   "source": [
    "df2.isnull().sum()"
   ]
  },
  {
   "cell_type": "code",
   "execution_count": null,
   "id": "a9fa347c",
   "metadata": {},
   "outputs": [],
   "source": [
    "df3 = data.copy()\n",
    "for col in data.columns:\n",
    "    if df3[col].isnull().any():\n",
    "        df3[col] = df3[col].ffill()\n",
    "df3.isnull().sum()"
   ]
  }
 ],
 "metadata": {
  "kernelspec": {
   "display_name": "Python 3 (ipykernel)",
   "language": "python",
   "name": "python3"
  },
  "language_info": {
   "codemirror_mode": {
    "name": "ipython",
    "version": 3
   },
   "file_extension": ".py",
   "mimetype": "text/x-python",
   "name": "python",
   "nbconvert_exporter": "python",
   "pygments_lexer": "ipython3",
   "version": "3.11.5"
  }
 },
 "nbformat": 4,
 "nbformat_minor": 5
}
